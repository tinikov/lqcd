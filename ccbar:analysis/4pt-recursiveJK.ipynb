{
 "cells": [
  {
   "cell_type": "markdown",
   "metadata": {},
   "source": [
    "# Code for Quark Mass (Recusive Jackknife)"
   ]
  },
  {
   "cell_type": "markdown",
   "metadata": {},
   "source": [
    "## General settings"
   ]
  },
  {
   "cell_type": "code",
   "execution_count": null,
   "metadata": {},
   "outputs": [],
   "source": [
    "%pip install numpy scipy iminuit matplotlib scienceplots"
   ]
  },
  {
   "cell_type": "code",
   "execution_count": 1,
   "metadata": {},
   "outputs": [],
   "source": [
    "import os\n",
    "import numpy as np\n",
    "from iminuit import Minuit\n",
    "from iminuit.cost import LeastSquares\n",
    "\n",
    "xyz_size = 32\n",
    "t_size = 64\n",
    "a = 0.090713\n",
    "a_invrs = 2.1753\n",
    "\n",
    "t_half = int(t_size / 2)\n",
    "xyz_cube = int(xyz_size**3)\n",
    "\n",
    "bin_count = 18\n",
    "\n",
    "droot = \"/Volumes/X6/data/ccbar\"\n",
    "\n",
    "gfix = [\"gfix_C\", \"gfix_L\"]\n",
    "gauge = [\"Coulomb\", \"Landau\"]\n",
    "chan = [\"ps\", \"v\"]\n",
    "binID = [\"BIN\" + f\"{i:02}\" for i in range(1, 1 + bin_count)]\n",
    "\n",
    "rj_path = \"4pt/RJ\"\n",
    "\n",
    "for igfix in gfix:\n",
    "    if not os.path.exists(f\"{droot}/{igfix}/{rj_path}\"):\n",
    "        os.makedirs(f\"{droot}/{igfix}/{rj_path}\")\n"
   ]
  },
  {
   "cell_type": "markdown",
   "metadata": {},
   "source": [
    "## Preparation"
   ]
  },
  {
   "cell_type": "markdown",
   "metadata": {},
   "source": [
    "This step is to make [bin#] packs of samples that contains [bin# - 1] samples in each pack."
   ]
  },
  {
   "cell_type": "code",
   "execution_count": 2,
   "metadata": {},
   "outputs": [],
   "source": [
    "for igfix in gfix:\n",
    "    a1plus_root = f\"{droot}/{igfix}/4pt/a1plus\"\n",
    "    rj_root = f\"{droot}/{igfix}/{rj_path}\"\n",
    "\n",
    "    for ibin in range(bin_count):\n",
    "        pack_path = f\"{rj_root}/sp{binID[ibin]}\"\n",
    "        if not os.path.exists(f\"{pack_path}\"):\n",
    "            os.makedirs(f\"{pack_path}\")\n",
    "\n",
    "        for ich in chan:\n",
    "            for it in range(t_half):\n",
    "                t = f\"{it:+03}\"\n",
    "\n",
    "                ifnames = \" \".join(\n",
    "                    [\n",
    "                        f\"{a1plus_root}/{ich}.{t}.{igfix}.BIN{i:02}\"\n",
    "                        for i in range(1, 1 + bin_count)\n",
    "                        if i != ibin + 1\n",
    "                    ]\n",
    "                )\n",
    "\n",
    "                jksampleRJ_path = f\"{pack_path}/jksampRJ\"\n",
    "                if not os.path.exists(f\"{jksampleRJ_path}\"):\n",
    "                    os.makedirs(f\"{jksampleRJ_path}\")\n",
    "\n",
    "                os.system(\n",
    "                    f\"bin/jre -l {xyz_cube} -d {jksampleRJ_path} {ifnames}\"\n",
    "                )"
   ]
  },
  {
   "cell_type": "markdown",
   "metadata": {},
   "source": [
    "## Prepotential"
   ]
  },
  {
   "cell_type": "code",
   "execution_count": 3,
   "metadata": {},
   "outputs": [],
   "source": [
    "for igfix in gfix:\n",
    "    rj_root = f\"{droot}/{igfix}/{rj_path}\"\n",
    "    for ibin in binID:\n",
    "        pack_path = f\"{rj_root}/sp{ibin}\"\n",
    "\n",
    "        ifpath = f\"{pack_path}/jksampRJ\"\n",
    "        ofpath = f\"{pack_path}/prevRJ\"\n",
    "        os.system(f\"rm -rf {ofpath}\")  # clear data\n",
    "        os.makedirs(ofpath, exist_ok=True)  # make directory for output files\n",
    "\n",
    "        os.system(f\"bin/prev -n {xyz_size} -d {ofpath} {ifpath}/*\")"
   ]
  },
  {
   "cell_type": "markdown",
   "metadata": {},
   "source": [
    "## KS function (TI)"
   ]
  },
  {
   "cell_type": "code",
   "execution_count": 4,
   "metadata": {},
   "outputs": [],
   "source": [
    "for igfix in gfix:\n",
    "    rj_root = f\"{droot}/{igfix}/{rj_path}\"\n",
    "    for ibin in range(bin_count):\n",
    "        pack_path = f\"{rj_root}/sp{binID[ibin]}\"\n",
    "\n",
    "        prev_path = f\"{pack_path}/prevRJ\"\n",
    "        ofpath = f\"{pack_path}/fks-tiRJ\"\n",
    "        os.system(f\"rm -rf {ofpath}\")  # clear data\n",
    "        os.makedirs(ofpath, exist_ok=True)  # make directory for output files\n",
    "\n",
    "        RJbin_list = [f\"BIN{i:02}\" for i in range(1, 1 + bin_count) if i != ibin + 1]\n",
    "\n",
    "        for it in range(t_half):\n",
    "            t = f\"{it:+03}\"\n",
    "\n",
    "            for ibinRJ in RJbin_list:\n",
    "                psfname = f\"{prev_path}/ps.{t}.{igfix}.{ibinRJ}\"\n",
    "                vfname = f\"{prev_path}/v.{t}.{igfix}.{ibinRJ}\"\n",
    "                ofname = f\"{ofpath}/{t}.{igfix}.{ibinRJ}\"\n",
    "\n",
    "                os.system(\n",
    "                    f\"bin/fks-ti -n {xyz_size} -m 0.0483 -o {ofname} {psfname} {vfname}\"\n",
    "                )"
   ]
  },
  {
   "cell_type": "code",
   "execution_count": 5,
   "metadata": {},
   "outputs": [],
   "source": [
    "# jackknife average\n",
    "for ig in range(2):\n",
    "    result_path = f\"result/{gauge[ig]}/fks-tiRJ\"\n",
    "    os.system(f\"rm -rf {result_path}\")  # clear data\n",
    "    os.makedirs(result_path, exist_ok=True)  # make directory for output files\n",
    "    for ibin in binID:\n",
    "        for it in range(t_half):\n",
    "            t = f\"{it:+03}\"\n",
    "            iflist = f\"{droot}/{gfix[ig]}/4pt/RJ/sp{ibin}/fks-tiRJ/{t}.{gfix[ig]}.*\"\n",
    "            ofname = f\"{result_path}/{t}.{ibin}\"\n",
    "\n",
    "            os.system(f\"bin/mean -l {xyz_cube} -o {ofname} -jc {iflist}\")\n",
    "\n",
    "        # Convert all data to spherical coordinate\n",
    "    os.system(\n",
    "        f\"bin/cart2sphr -n {xyz_size} -d {result_path} -p sphr -s txt {result_path}/*\"\n",
    "    )"
   ]
  },
  {
   "cell_type": "markdown",
   "metadata": {},
   "source": [
    "### Fit"
   ]
  },
  {
   "cell_type": "code",
   "execution_count": 6,
   "metadata": {},
   "outputs": [
    {
     "name": "stdout",
     "output_type": "stream",
     "text": [
      "M  =  1.9323275427628086 ± 0.00771881756259639   (Coulomb)\n",
      "M  =  1.5217202014678106 ± 0.004632566488403369   (Landau)\n"
     ]
    }
   ],
   "source": [
    "def mcc_fit(rmin, rmax, rawdf):\n",
    "\n",
    "    def gaussian(x, A, B, C):\n",
    "        return A * np.exp(-(x**2) / B) + C\n",
    "\n",
    "    def gaussian2(x, A1, B1, A2, B2, C):\n",
    "        return gaussian(x, A1, B1, 0) + gaussian(x, A2, B2, 0) + C\n",
    "\n",
    "    para = {\n",
    "        \"A1\": 1,\n",
    "        \"B1\": 10,\n",
    "        \"A2\": 10,\n",
    "        \"B2\": 1,\n",
    "        \"C\": -1,\n",
    "    }\n",
    "\n",
    "    # Fit\n",
    "    rawdata = np.loadtxt(rawdf, dtype=np.float64)\n",
    "\n",
    "    mask = (rawdata[:, 0] > rmin / a) & (rawdata[:, 0] < rmax / a)\n",
    "    subdata = rawdata[mask]\n",
    "\n",
    "    fitdata = subdata[np.argsort(subdata[:, 0])]\n",
    "\n",
    "    fitsites = fitdata[:, 0]\n",
    "    fitfks = fitdata[:, 1]\n",
    "    fiterr = fitdata[:, 2]\n",
    "\n",
    "    # Fit\n",
    "    least_squares = LeastSquares(fitsites, fitfks, fiterr, gaussian2)  # type: ignore\n",
    "    m = Minuit(least_squares, **para)  # type: ignore\n",
    "    m.migrad()\n",
    "\n",
    "    return -m.values[\"C\"] * a_invrs\n",
    "\n",
    "\n",
    "for igauge in gauge:\n",
    "    M_array = []\n",
    "    for ibin in binID:\n",
    "        M_array.append(mcc_fit(0.01, 0.82, f\"result/{igauge}/fks-tiRJ/sphr.+29.{ibin}.txt\"))\n",
    "    \n",
    "    M_array = np.array(M_array)\n",
    "    M_mean = np.mean(M_array)\n",
    "    M_var = np.sqrt(np.var(M_array) * (bin_count - 1) / bin_count)\n",
    "\n",
    "    print(f\"M  =  {M_mean} ± {M_var}   ({igauge})\")"
   ]
  }
 ],
 "metadata": {
  "kernelspec": {
   "display_name": ".venv",
   "language": "python",
   "name": "python3"
  },
  "language_info": {
   "codemirror_mode": {
    "name": "ipython",
    "version": 3
   },
   "file_extension": ".py",
   "mimetype": "text/x-python",
   "name": "python",
   "nbconvert_exporter": "python",
   "pygments_lexer": "ipython3",
   "version": "3.12.7"
  }
 },
 "nbformat": 4,
 "nbformat_minor": 2
}
