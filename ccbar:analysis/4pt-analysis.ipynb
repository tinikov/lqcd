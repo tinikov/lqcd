{
 "cells": [
  {
   "cell_type": "markdown",
   "metadata": {},
   "source": [
    "# Analysis Code for 4-Point Correlator"
   ]
  },
  {
   "cell_type": "markdown",
   "metadata": {},
   "source": [
    "## Preparation\n"
   ]
  },
  {
   "cell_type": "code",
   "execution_count": 1,
   "metadata": {},
   "outputs": [
    {
     "name": "stdout",
     "output_type": "stream",
     "text": [
      "Requirement already satisfied: numpy in /Users/tinikov/lqcd/.venv/lib/python3.12/site-packages (2.0.0)\n",
      "Requirement already satisfied: scipy in /Users/tinikov/lqcd/.venv/lib/python3.12/site-packages (1.14.0)\n",
      "Requirement already satisfied: iminuit in /Users/tinikov/lqcd/.venv/lib/python3.12/site-packages (2.26.0)\n",
      "Requirement already satisfied: matplotlib in /Users/tinikov/lqcd/.venv/lib/python3.12/site-packages (3.9.1)\n",
      "Requirement already satisfied: scienceplots in /Users/tinikov/lqcd/.venv/lib/python3.12/site-packages (2.1.1)\n",
      "Requirement already satisfied: contourpy>=1.0.1 in /Users/tinikov/lqcd/.venv/lib/python3.12/site-packages (from matplotlib) (1.2.1)\n",
      "Requirement already satisfied: cycler>=0.10 in /Users/tinikov/lqcd/.venv/lib/python3.12/site-packages (from matplotlib) (0.12.1)\n",
      "Requirement already satisfied: fonttools>=4.22.0 in /Users/tinikov/lqcd/.venv/lib/python3.12/site-packages (from matplotlib) (4.53.1)\n",
      "Requirement already satisfied: kiwisolver>=1.3.1 in /Users/tinikov/lqcd/.venv/lib/python3.12/site-packages (from matplotlib) (1.4.5)\n",
      "Requirement already satisfied: packaging>=20.0 in /Users/tinikov/lqcd/.venv/lib/python3.12/site-packages (from matplotlib) (24.1)\n",
      "Requirement already satisfied: pillow>=8 in /Users/tinikov/lqcd/.venv/lib/python3.12/site-packages (from matplotlib) (10.4.0)\n",
      "Requirement already satisfied: pyparsing>=2.3.1 in /Users/tinikov/lqcd/.venv/lib/python3.12/site-packages (from matplotlib) (3.1.2)\n",
      "Requirement already satisfied: python-dateutil>=2.7 in /Users/tinikov/lqcd/.venv/lib/python3.12/site-packages (from matplotlib) (2.9.0.post0)\n",
      "Requirement already satisfied: six>=1.5 in /Users/tinikov/lqcd/.venv/lib/python3.12/site-packages (from python-dateutil>=2.7->matplotlib) (1.16.0)\n",
      "Note: you may need to restart the kernel to use updated packages.\n"
     ]
    }
   ],
   "source": [
    "%pip install numpy scipy iminuit matplotlib scienceplots\n",
    "import os\n",
    "import numpy as np\n",
    "import matplotlib.pyplot as plt\n",
    "from matplotlib import ticker\n",
    "import scienceplots"
   ]
  },
  {
   "cell_type": "markdown",
   "metadata": {},
   "source": [
    "Lattice size:\n"
   ]
  },
  {
   "cell_type": "code",
   "execution_count": 2,
   "metadata": {},
   "outputs": [],
   "source": [
    "xyz_size = 32\n",
    "t_size = 64\n",
    "t_half = int(t_size / 2)\n",
    "xyz_cube = int(xyz_size**3)"
   ]
  },
  {
   "cell_type": "markdown",
   "metadata": {},
   "source": [
    "Directory and file names:\n"
   ]
  },
  {
   "cell_type": "code",
   "execution_count": 3,
   "metadata": {},
   "outputs": [],
   "source": [
    "droot = \"/Volumes/X6/data/ccbar\"\n",
    "\n",
    "gfix = [\"gfix_C\", \"gfix_L\"]\n",
    "gauge = [\"Coulomb\", \"Landau\"]\n",
    "chan = [\"ps\", \"v\"]\n",
    "binID = [\"BIN\" + f\"{i:02}\" for i in range(1, 19)]"
   ]
  },
  {
   "cell_type": "markdown",
   "metadata": {},
   "source": [
    "### Time reversal\n",
    "\n",
    "Calculate $C_{\\text{ave}}(n_t) = [C(n_t) + C(N_t - n_t)]/2$\n"
   ]
  },
  {
   "cell_type": "code",
   "execution_count": 4,
   "metadata": {},
   "outputs": [
    {
     "name": "stdout",
     "output_type": "stream",
     "text": [
      "Coulomb gauge, ps chan: got [C(+00) + C(+00)]/2\n",
      "Coulomb gauge, ps chan: got [C(+01) + C(+63)]/2\n",
      "Coulomb gauge, ps chan: got [C(+02) + C(+62)]/2\n",
      "Coulomb gauge, ps chan: got [C(+03) + C(+61)]/2\n",
      "Coulomb gauge, ps chan: got [C(+04) + C(+60)]/2\n",
      "Coulomb gauge, ps chan: got [C(+05) + C(+59)]/2\n",
      "Coulomb gauge, ps chan: got [C(+06) + C(+58)]/2\n",
      "Coulomb gauge, ps chan: got [C(+07) + C(+57)]/2\n",
      "Coulomb gauge, ps chan: got [C(+08) + C(+56)]/2\n",
      "Coulomb gauge, ps chan: got [C(+09) + C(+55)]/2\n",
      "Coulomb gauge, ps chan: got [C(+10) + C(+54)]/2\n",
      "Coulomb gauge, ps chan: got [C(+11) + C(+53)]/2\n",
      "Coulomb gauge, ps chan: got [C(+12) + C(+52)]/2\n",
      "Coulomb gauge, ps chan: got [C(+13) + C(+51)]/2\n",
      "Coulomb gauge, ps chan: got [C(+14) + C(+50)]/2\n",
      "Coulomb gauge, ps chan: got [C(+15) + C(+49)]/2\n",
      "Coulomb gauge, ps chan: got [C(+16) + C(+48)]/2\n",
      "Coulomb gauge, ps chan: got [C(+17) + C(+47)]/2\n",
      "Coulomb gauge, ps chan: got [C(+18) + C(+46)]/2\n",
      "Coulomb gauge, ps chan: got [C(+19) + C(+45)]/2\n",
      "Coulomb gauge, ps chan: got [C(+20) + C(+44)]/2\n",
      "Coulomb gauge, ps chan: got [C(+21) + C(+43)]/2\n",
      "Coulomb gauge, ps chan: got [C(+22) + C(+42)]/2\n",
      "Coulomb gauge, ps chan: got [C(+23) + C(+41)]/2\n",
      "Coulomb gauge, ps chan: got [C(+24) + C(+40)]/2\n",
      "Coulomb gauge, ps chan: got [C(+25) + C(+39)]/2\n",
      "Coulomb gauge, ps chan: got [C(+26) + C(+38)]/2\n",
      "Coulomb gauge, ps chan: got [C(+27) + C(+37)]/2\n",
      "Coulomb gauge, ps chan: got [C(+28) + C(+36)]/2\n",
      "Coulomb gauge, ps chan: got [C(+29) + C(+35)]/2\n",
      "Coulomb gauge, ps chan: got [C(+30) + C(+34)]/2\n",
      "Coulomb gauge, ps chan: got [C(+31) + C(+33)]/2\n",
      "Coulomb gauge, v chan: got [C(+00) + C(+00)]/2\n",
      "Coulomb gauge, v chan: got [C(+01) + C(+63)]/2\n",
      "Coulomb gauge, v chan: got [C(+02) + C(+62)]/2\n",
      "Coulomb gauge, v chan: got [C(+03) + C(+61)]/2\n",
      "Coulomb gauge, v chan: got [C(+04) + C(+60)]/2\n",
      "Coulomb gauge, v chan: got [C(+05) + C(+59)]/2\n",
      "Coulomb gauge, v chan: got [C(+06) + C(+58)]/2\n",
      "Coulomb gauge, v chan: got [C(+07) + C(+57)]/2\n",
      "Coulomb gauge, v chan: got [C(+08) + C(+56)]/2\n",
      "Coulomb gauge, v chan: got [C(+09) + C(+55)]/2\n",
      "Coulomb gauge, v chan: got [C(+10) + C(+54)]/2\n",
      "Coulomb gauge, v chan: got [C(+11) + C(+53)]/2\n",
      "Coulomb gauge, v chan: got [C(+12) + C(+52)]/2\n",
      "Coulomb gauge, v chan: got [C(+13) + C(+51)]/2\n",
      "Coulomb gauge, v chan: got [C(+14) + C(+50)]/2\n",
      "Coulomb gauge, v chan: got [C(+15) + C(+49)]/2\n",
      "Coulomb gauge, v chan: got [C(+16) + C(+48)]/2\n",
      "Coulomb gauge, v chan: got [C(+17) + C(+47)]/2\n",
      "Coulomb gauge, v chan: got [C(+18) + C(+46)]/2\n",
      "Coulomb gauge, v chan: got [C(+19) + C(+45)]/2\n",
      "Coulomb gauge, v chan: got [C(+20) + C(+44)]/2\n",
      "Coulomb gauge, v chan: got [C(+21) + C(+43)]/2\n",
      "Coulomb gauge, v chan: got [C(+22) + C(+42)]/2\n",
      "Coulomb gauge, v chan: got [C(+23) + C(+41)]/2\n",
      "Coulomb gauge, v chan: got [C(+24) + C(+40)]/2\n",
      "Coulomb gauge, v chan: got [C(+25) + C(+39)]/2\n",
      "Coulomb gauge, v chan: got [C(+26) + C(+38)]/2\n",
      "Coulomb gauge, v chan: got [C(+27) + C(+37)]/2\n",
      "Coulomb gauge, v chan: got [C(+28) + C(+36)]/2\n",
      "Coulomb gauge, v chan: got [C(+29) + C(+35)]/2\n",
      "Coulomb gauge, v chan: got [C(+30) + C(+34)]/2\n",
      "Coulomb gauge, v chan: got [C(+31) + C(+33)]/2\n",
      "Landau gauge, ps chan: got [C(+00) + C(+00)]/2\n",
      "Landau gauge, ps chan: got [C(+01) + C(+63)]/2\n",
      "Landau gauge, ps chan: got [C(+02) + C(+62)]/2\n",
      "Landau gauge, ps chan: got [C(+03) + C(+61)]/2\n",
      "Landau gauge, ps chan: got [C(+04) + C(+60)]/2\n",
      "Landau gauge, ps chan: got [C(+05) + C(+59)]/2\n",
      "Landau gauge, ps chan: got [C(+06) + C(+58)]/2\n",
      "Landau gauge, ps chan: got [C(+07) + C(+57)]/2\n",
      "Landau gauge, ps chan: got [C(+08) + C(+56)]/2\n",
      "Landau gauge, ps chan: got [C(+09) + C(+55)]/2\n",
      "Landau gauge, ps chan: got [C(+10) + C(+54)]/2\n",
      "Landau gauge, ps chan: got [C(+11) + C(+53)]/2\n",
      "Landau gauge, ps chan: got [C(+12) + C(+52)]/2\n",
      "Landau gauge, ps chan: got [C(+13) + C(+51)]/2\n",
      "Landau gauge, ps chan: got [C(+14) + C(+50)]/2\n",
      "Landau gauge, ps chan: got [C(+15) + C(+49)]/2\n",
      "Landau gauge, ps chan: got [C(+16) + C(+48)]/2\n",
      "Landau gauge, ps chan: got [C(+17) + C(+47)]/2\n",
      "Landau gauge, ps chan: got [C(+18) + C(+46)]/2\n",
      "Landau gauge, ps chan: got [C(+19) + C(+45)]/2\n",
      "Landau gauge, ps chan: got [C(+20) + C(+44)]/2\n",
      "Landau gauge, ps chan: got [C(+21) + C(+43)]/2\n",
      "Landau gauge, ps chan: got [C(+22) + C(+42)]/2\n",
      "Landau gauge, ps chan: got [C(+23) + C(+41)]/2\n",
      "Landau gauge, ps chan: got [C(+24) + C(+40)]/2\n",
      "Landau gauge, ps chan: got [C(+25) + C(+39)]/2\n",
      "Landau gauge, ps chan: got [C(+26) + C(+38)]/2\n",
      "Landau gauge, ps chan: got [C(+27) + C(+37)]/2\n",
      "Landau gauge, ps chan: got [C(+28) + C(+36)]/2\n",
      "Landau gauge, ps chan: got [C(+29) + C(+35)]/2\n",
      "Landau gauge, ps chan: got [C(+30) + C(+34)]/2\n",
      "Landau gauge, ps chan: got [C(+31) + C(+33)]/2\n",
      "Landau gauge, v chan: got [C(+00) + C(+00)]/2\n",
      "Landau gauge, v chan: got [C(+01) + C(+63)]/2\n",
      "Landau gauge, v chan: got [C(+02) + C(+62)]/2\n",
      "Landau gauge, v chan: got [C(+03) + C(+61)]/2\n",
      "Landau gauge, v chan: got [C(+04) + C(+60)]/2\n",
      "Landau gauge, v chan: got [C(+05) + C(+59)]/2\n",
      "Landau gauge, v chan: got [C(+06) + C(+58)]/2\n",
      "Landau gauge, v chan: got [C(+07) + C(+57)]/2\n",
      "Landau gauge, v chan: got [C(+08) + C(+56)]/2\n",
      "Landau gauge, v chan: got [C(+09) + C(+55)]/2\n",
      "Landau gauge, v chan: got [C(+10) + C(+54)]/2\n",
      "Landau gauge, v chan: got [C(+11) + C(+53)]/2\n",
      "Landau gauge, v chan: got [C(+12) + C(+52)]/2\n",
      "Landau gauge, v chan: got [C(+13) + C(+51)]/2\n",
      "Landau gauge, v chan: got [C(+14) + C(+50)]/2\n",
      "Landau gauge, v chan: got [C(+15) + C(+49)]/2\n",
      "Landau gauge, v chan: got [C(+16) + C(+48)]/2\n",
      "Landau gauge, v chan: got [C(+17) + C(+47)]/2\n",
      "Landau gauge, v chan: got [C(+18) + C(+46)]/2\n",
      "Landau gauge, v chan: got [C(+19) + C(+45)]/2\n",
      "Landau gauge, v chan: got [C(+20) + C(+44)]/2\n",
      "Landau gauge, v chan: got [C(+21) + C(+43)]/2\n",
      "Landau gauge, v chan: got [C(+22) + C(+42)]/2\n",
      "Landau gauge, v chan: got [C(+23) + C(+41)]/2\n",
      "Landau gauge, v chan: got [C(+24) + C(+40)]/2\n",
      "Landau gauge, v chan: got [C(+25) + C(+39)]/2\n",
      "Landau gauge, v chan: got [C(+26) + C(+38)]/2\n",
      "Landau gauge, v chan: got [C(+27) + C(+37)]/2\n",
      "Landau gauge, v chan: got [C(+28) + C(+36)]/2\n",
      "Landau gauge, v chan: got [C(+29) + C(+35)]/2\n",
      "Landau gauge, v chan: got [C(+30) + C(+34)]/2\n",
      "Landau gauge, v chan: got [C(+31) + C(+33)]/2\n"
     ]
    }
   ],
   "source": [
    "for ig in range(2):\n",
    "    ofpath = f\"{droot}/{gfix[ig]}/4pt/trev\"\n",
    "    os.system(f\"rm -rf {ofpath}\")  # clear data\n",
    "    os.makedirs(ofpath, exist_ok=True)  # make directory for output files\n",
    "    for ich in range(2):\n",
    "        for it in range(t_half):\n",
    "            t1 = f\"{it:+03}\"\n",
    "            t2 = f\"{(t_size - it)%t_size:+03}\"\n",
    "            for ibin in range(18):\n",
    "                ifname_t1 = f\"{droot}/{gfix[ig]}/4pt/binned/4pt.{chan[ich]}.{t1}.{gfix[ig]}.{binID[ibin]}\"\n",
    "                ifname_t2 = f\"{droot}/{gfix[ig]}/4pt/binned/4pt.{chan[ich]}.{t2}.{gfix[ig]}.{binID[ibin]}\"\n",
    "                ofname = f\"{droot}/{gfix[ig]}/4pt/trev/{chan[ich]}.{t1}.{gfix[ig]}.{binID[ibin]}\"\n",
    "                assert os.path.exists(ifname_t1)\n",
    "                assert os.path.exists(ifname_t2)\n",
    "\n",
    "                os.system(\n",
    "                    f\"bin/mean -l {xyz_cube} -o {ofname} {ifname_t1} {ifname_t2}\"\n",
    "                )\n",
    "\n",
    "            print(f\"{gauge[ig]} gauge, {chan[ich]} chan: got [C({t1}) + C({t2})]/2\")"
   ]
  },
  {
   "cell_type": "markdown",
   "metadata": {},
   "source": [
    "We simply denote $C_{\\text{ave}}(n_t)$ as $C(n_t)$ from below\n"
   ]
  },
  {
   "cell_type": "markdown",
   "metadata": {},
   "source": [
    "### $A_1^+$ projection\n",
    "\n",
    "$$\n",
    "\\phi(r)=\\frac{1}{48}\\sum_{g\\in O_h}\\phi(g^{-1}(\\mathbf{x}-\\mathbf{y}))\n",
    "$$"
   ]
  },
  {
   "cell_type": "code",
   "execution_count": 5,
   "metadata": {},
   "outputs": [
    {
     "name": "stdout",
     "output_type": "stream",
     "text": [
      "Coulomb gauge: A1+ projection done\n",
      "Landau gauge: A1+ projection done\n"
     ]
    }
   ],
   "source": [
    "for ig in range(2):\n",
    "    ifpath = f\"{droot}/{gfix[ig]}/4pt/trev\"\n",
    "    ofpath = f\"{droot}/{gfix[ig]}/4pt/a1plus\"\n",
    "    os.system(f\"rm -rf {ofpath}\")  # clear data\n",
    "    os.makedirs(ofpath, exist_ok=True)  # make directory for output files\n",
    "\n",
    "    os.system(f\"bin/a1plus -n {xyz_size} -d {ofpath} {ifpath}/*\")\n",
    "\n",
    "    print(f\"{gauge[ig]} gauge: A1+ projection done\")"
   ]
  },
  {
   "cell_type": "markdown",
   "metadata": {},
   "source": [
    "### Jackknife resampling"
   ]
  },
  {
   "cell_type": "code",
   "execution_count": 6,
   "metadata": {},
   "outputs": [
    {
     "name": "stdout",
     "output_type": "stream",
     "text": [
      "Coulomb gauge: jk resampling done\n",
      "Landau gauge: jk resampling done\n"
     ]
    }
   ],
   "source": [
    "for ig in range(2):\n",
    "    ifpath = f\"{droot}/{gfix[ig]}/4pt/a1plus\"\n",
    "    ofpath = f\"{droot}/{gfix[ig]}/4pt/jksamp\"\n",
    "    os.system(f\"rm -rf {ofpath}\")  # clear data\n",
    "    os.makedirs(ofpath, exist_ok=True)  # make directory for output files\n",
    "\n",
    "    os.system(f\"bin/jre -l {xyz_cube} -d {ofpath} {ifpath}/*\")\n",
    "\n",
    "    print(f\"{gauge[ig]} gauge: jk resampling done\")"
   ]
  },
  {
   "cell_type": "markdown",
   "metadata": {},
   "source": [
    "## Correlator\n"
   ]
  },
  {
   "cell_type": "markdown",
   "metadata": {},
   "source": [
    "## Pre-potential\n"
   ]
  },
  {
   "cell_type": "code",
   "execution_count": 7,
   "metadata": {},
   "outputs": [
    {
     "name": "stdout",
     "output_type": "stream",
     "text": [
      "Coulomb gauge: got [▽^2 C(r,t)]/C(r,t)\n",
      "Landau gauge: got [▽^2 C(r,t)]/C(r,t)\n"
     ]
    }
   ],
   "source": [
    "for ig in range(2):\n",
    "    ifpath = f\"{droot}/{gfix[ig]}/4pt/jksamp\"\n",
    "    ofpath = f\"{droot}/{gfix[ig]}/4pt/prev\"\n",
    "    os.system(f\"rm -rf {ofpath}\")  # clear data\n",
    "    os.makedirs(ofpath, exist_ok=True)  # make directory for output files\n",
    "\n",
    "    os.system(f\"bin/prev -n {xyz_size} -d {ofpath} {ifpath}/*\")\n",
    "\n",
    "    print(f\"{gauge[ig]} gauge: got [▽^2 C(r,t)]/C(r,t)\")"
   ]
  },
  {
   "cell_type": "markdown",
   "metadata": {},
   "source": [
    "## Kawanai-Sasaki function"
   ]
  },
  {
   "cell_type": "markdown",
   "metadata": {},
   "source": [
    "## Central potential of $c\\bar{c}$"
   ]
  },
  {
   "cell_type": "markdown",
   "metadata": {},
   "source": [
    "### Spin-independent potential\n",
    "\n",
    "$$\n",
    "V_0(r)=\\frac{1}{4m_c}\\Bigl[3\\frac{\\nabla^2 \\phi_V(r)}{\\phi_V(r)}+\\frac{\\nabla^2 \\phi_{PS}(r)}{\\phi_{PS}(r)}\\Bigr]+\\frac{1}{4}(3M_V+M_{PS})-2m_c\n",
    "$$"
   ]
  },
  {
   "cell_type": "code",
   "execution_count": 8,
   "metadata": {},
   "outputs": [
    {
     "name": "stdout",
     "output_type": "stream",
     "text": [
      "Coulomb gauge: got potentials\n",
      "Landau gauge: got potentials\n"
     ]
    }
   ],
   "source": [
    "for ig in range(2):\n",
    "    ofpath = f\"{droot}/{gfix[ig]}/4pt/potential\"\n",
    "    os.system(f\"rm -rf {ofpath}\")  # clear data\n",
    "    os.makedirs(ofpath, exist_ok=True)  # make directory for output files\n",
    "    mc = [0.88817, 0.69968]\n",
    "    for it in range(t_half):\n",
    "        t = f\"{it:+03}\"\n",
    "        for ibin in range(18):\n",
    "            prev_PS = f\"{droot}/{gfix[ig]}/4pt/prev/ps.{t}.{gfix[ig]}.{binID[ibin]}\"\n",
    "            prev_V = f\"{droot}/{gfix[ig]}/4pt/prev/v.{t}.{gfix[ig]}.{binID[ibin]}\"\n",
    "            ofname_v0 = f\"{droot}/{gfix[ig]}/4pt/potential/v0.{t}.{gfix[ig]}.{binID[ibin]}\"\n",
    "            ofname_vs = f\"{droot}/{gfix[ig]}/4pt/potential/vs.{t}.{gfix[ig]}.{binID[ibin]}\"\n",
    "            assert os.path.exists(prev_PS)\n",
    "            assert os.path.exists(prev_V)\n",
    "\n",
    "            os.system(\n",
    "                f\"bin/v-ti -l {xyz_cube} -mps 1.3665 -mv 1.4148 -mc {mc[ig]}  -ov0 {ofname_v0} -ovs {ofname_vs} {prev_V} {prev_PS}\"\n",
    "            )\n",
    "\n",
    "    print(f\"{gauge[ig]} gauge: got potentials\")"
   ]
  },
  {
   "cell_type": "code",
   "execution_count": null,
   "metadata": {},
   "outputs": [],
   "source": []
  }
 ],
 "metadata": {
  "kernelspec": {
   "display_name": ".python-3.12",
   "language": "python",
   "name": "python3"
  },
  "language_info": {
   "codemirror_mode": {
    "name": "ipython",
    "version": 3
   },
   "file_extension": ".py",
   "mimetype": "text/x-python",
   "name": "python",
   "nbconvert_exporter": "python",
   "pygments_lexer": "ipython3",
   "version": "3.12.4"
  }
 },
 "nbformat": 4,
 "nbformat_minor": 2
}
