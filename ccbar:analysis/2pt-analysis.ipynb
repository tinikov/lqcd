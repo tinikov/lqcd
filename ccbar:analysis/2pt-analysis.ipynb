{
 "cells": [
  {
   "cell_type": "markdown",
   "metadata": {},
   "source": [
    "# Analysis Code for 2-Point Correlator"
   ]
  },
  {
   "cell_type": "markdown",
   "metadata": {},
   "source": [
    "## Preparation"
   ]
  },
  {
   "cell_type": "code",
   "execution_count": 1,
   "metadata": {},
   "outputs": [
    {
     "name": "stdout",
     "output_type": "stream",
     "text": [
      "Requirement already satisfied: numpy in /Users/tinikov/lqcd/.venv/lib/python3.12/site-packages (2.0.0)\n",
      "Requirement already satisfied: scipy in /Users/tinikov/lqcd/.venv/lib/python3.12/site-packages (1.14.0)\n",
      "Requirement already satisfied: iminuit in /Users/tinikov/lqcd/.venv/lib/python3.12/site-packages (2.26.0)\n",
      "Requirement already satisfied: matplotlib in /Users/tinikov/lqcd/.venv/lib/python3.12/site-packages (3.9.1)\n",
      "Requirement already satisfied: scienceplots in /Users/tinikov/lqcd/.venv/lib/python3.12/site-packages (2.1.1)\n",
      "Requirement already satisfied: contourpy>=1.0.1 in /Users/tinikov/lqcd/.venv/lib/python3.12/site-packages (from matplotlib) (1.2.1)\n",
      "Requirement already satisfied: cycler>=0.10 in /Users/tinikov/lqcd/.venv/lib/python3.12/site-packages (from matplotlib) (0.12.1)\n",
      "Requirement already satisfied: fonttools>=4.22.0 in /Users/tinikov/lqcd/.venv/lib/python3.12/site-packages (from matplotlib) (4.53.1)\n",
      "Requirement already satisfied: kiwisolver>=1.3.1 in /Users/tinikov/lqcd/.venv/lib/python3.12/site-packages (from matplotlib) (1.4.5)\n",
      "Requirement already satisfied: packaging>=20.0 in /Users/tinikov/lqcd/.venv/lib/python3.12/site-packages (from matplotlib) (24.1)\n",
      "Requirement already satisfied: pillow>=8 in /Users/tinikov/lqcd/.venv/lib/python3.12/site-packages (from matplotlib) (10.4.0)\n",
      "Requirement already satisfied: pyparsing>=2.3.1 in /Users/tinikov/lqcd/.venv/lib/python3.12/site-packages (from matplotlib) (3.1.2)\n",
      "Requirement already satisfied: python-dateutil>=2.7 in /Users/tinikov/lqcd/.venv/lib/python3.12/site-packages (from matplotlib) (2.9.0.post0)\n",
      "Requirement already satisfied: six>=1.5 in /Users/tinikov/lqcd/.venv/lib/python3.12/site-packages (from python-dateutil>=2.7->matplotlib) (1.16.0)\n",
      "Note: you may need to restart the kernel to use updated packages.\n"
     ]
    }
   ],
   "source": [
    "%pip install numpy scipy iminuit matplotlib scienceplots"
   ]
  },
  {
   "cell_type": "code",
   "execution_count": 2,
   "metadata": {},
   "outputs": [],
   "source": [
    "import os\n",
    "import numpy as np\n",
    "from iminuit import Minuit\n",
    "from iminuit.cost import LeastSquares\n",
    "import matplotlib.pyplot as plt\n",
    "import matplotlib_inline\n",
    "matplotlib_inline.backend_inline.set_matplotlib_formats('retina')\n",
    "from matplotlib import ticker\n",
    "import scienceplots"
   ]
  },
  {
   "cell_type": "markdown",
   "metadata": {},
   "source": [
    "## Potential"
   ]
  },
  {
   "cell_type": "code",
   "execution_count": null,
   "metadata": {},
   "outputs": [],
   "source": []
  },
  {
   "cell_type": "markdown",
   "metadata": {},
   "source": [
    "## Effective mass"
   ]
  },
  {
   "cell_type": "markdown",
   "metadata": {},
   "source": [
    "### Figure"
   ]
  },
  {
   "cell_type": "code",
   "execution_count": 14,
   "metadata": {},
   "outputs": [],
   "source": [
    "plt.style.use([\"science\", \"nature\"])\n",
    "\n",
    "tsize = 64\n",
    "cutoff = 2.1753\n",
    "homePath = os.getenv(\"HOME\")\n",
    "codeRoot = \"{}/ccbar\".format(homePath)\n",
    "\n",
    "\n",
    "def gauge_plot(coulomb, landau, fit, filename, cutoff=1.0, xrange=None, yrange=None, loc=8):\n",
    "    fig, ax = plt.subplots()\n",
    "\n",
    "    errbar_plot_style1 = {\n",
    "        \"fmt\": \"D\",\n",
    "        \"color\": \"xkcd:primary blue\",\n",
    "        \"markersize\": 4,\n",
    "        \"markeredgewidth\": 0.5,\n",
    "        \"linewidth\": 0.5,\n",
    "        \"fillstyle\": \"none\",\n",
    "    }\n",
    "\n",
    "    errbar_plot_style2 = {\n",
    "        \"fmt\": \"s\",\n",
    "        \"color\": \"xkcd:bright red\",\n",
    "        \"markersize\": 4,\n",
    "        \"markeredgewidth\": 0.5,\n",
    "        \"linewidth\": 0.5,\n",
    "        \"fillstyle\": \"none\",\n",
    "    }\n",
    "\n",
    "    legend_style = {\n",
    "        \"loc\": loc,\n",
    "        \"handletextpad\": 0.5,\n",
    "        \"labelspacing\": 0.3,\n",
    "        \"fontsize\": 11\n",
    "    }\n",
    "\n",
    "    index = np.arange(0, tsize, 1)\n",
    "    ax.errorbar(\n",
    "        index + 0.5,\n",
    "        coulomb[:, 1] * cutoff,\n",
    "        coulomb[:, 2] * cutoff,\n",
    "        label=\"Coulomb\",\n",
    "        **errbar_plot_style1,\n",
    "    )\n",
    "    ax.errorbar(\n",
    "        index + 0.5,\n",
    "        landau[:, 1] * cutoff,\n",
    "        landau[:, 2] * cutoff,\n",
    "        label=\"Landau\",\n",
    "        **errbar_plot_style2,\n",
    "    )\n",
    "    x_fit = np.arange(0, 32, 0.01)\n",
    "    y_fit = np.full(x_fit.shape, fit)\n",
    "    ax.plot(\n",
    "            x_fit,\n",
    "            y_fit,\n",
    "            linewidth=1,\n",
    "            color=\"black\",\n",
    "            # label=\"fit\",\n",
    "        )\n",
    "\n",
    "\n",
    "    # Set grid (reserved)\n",
    "    ax.grid(which=\"major\", color=\"#DDDDDD\", linewidth=0.5)\n",
    "    ax.grid(which=\"minor\", color=\"#EEEEEE\", linestyle=\":\", linewidth=0.5)\n",
    "\n",
    "    ax.legend(**legend_style)\n",
    "\n",
    "    ax.set_xlabel(r\"$t/a$\")\n",
    "    ax.xaxis.set_major_locator(ticker.MultipleLocator(5))\n",
    "    if xrange is not None:\n",
    "        ax.set_xlim(xrange[0], xrange[1])\n",
    "\n",
    "    ax.yaxis.set_major_locator(ticker.MultipleLocator(0.1))\n",
    "    ax.set_ylabel(r\"$m_{\\rm eff}\\ [{\\rm GeV}]$\")\n",
    "    if yrange is not None:\n",
    "        ax.set_ylim(yrange[0], yrange[1])\n",
    "\n",
    "    fig.savefig(\"{}.png\".format(filename), dpi=600)\n",
    "    plt.close()\n",
    "\n",
    "\n",
    "# Channel\n",
    "channel = [\"ps\", \"v\", \"s\", \"av\", \"t\"]\n",
    "\n",
    "emass_c, emass_l = [[] for _ in range(2)]  # Read data files\n",
    "for i in range(5):\n",
    "    emass_c.append(\n",
    "        np.loadtxt(\"{}/result/c2pt/effmass/exp.{}.txt\".format(codeRoot, channel[i]))\n",
    "    )\n",
    "    emass_l.append(\n",
    "        np.loadtxt(\"{}/result/l2pt/effmass/exp.{}.txt\".format(codeRoot, channel[i]))\n",
    "    )\n",
    "\n",
    "xrange_all = [[4, 29], [4, 29]]\n",
    "yrange_all = [[2.7, 3.1], [2.7, 3.1]]\n",
    "loc = [8, 8]\n",
    "Mfit = [2.9725, 3.0777]\n",
    "\n",
    "# Destination\n",
    "path = f\"{homePath}/lqcd/ccbar:analysis/fig/effmass\"\n",
    "if not os.path.exists(path):\n",
    "    os.makedirs(path)\n",
    "\n",
    "# PLOT\n",
    "for i in range(2):\n",
    "    gauge_plot(\n",
    "        emass_c[i],\n",
    "        emass_l[i],\n",
    "        Mfit[i],\n",
    "        \"{}/gauge_{}_wfit\".format(path, channel[i]),\n",
    "        cutoff=cutoff,\n",
    "        xrange=xrange_all[i],\n",
    "        yrange=yrange_all[i],\n",
    "        loc=loc[i],\n",
    "    )\n"
   ]
  }
 ],
 "metadata": {
  "kernelspec": {
   "display_name": ".python-3.12",
   "language": "python",
   "name": "python3"
  },
  "language_info": {
   "codemirror_mode": {
    "name": "ipython",
    "version": 3
   },
   "file_extension": ".py",
   "mimetype": "text/x-python",
   "name": "python",
   "nbconvert_exporter": "python",
   "pygments_lexer": "ipython3",
   "version": "3.12.4"
  }
 },
 "nbformat": 4,
 "nbformat_minor": 2
}
